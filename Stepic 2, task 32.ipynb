{
 "cells": [
  {
   "cell_type": "code",
   "execution_count": null,
   "metadata": {},
   "outputs": [],
   "source": [
    "Вашей программе на вход подается ссылка на HTML файл.\n",
    "Вам необходимо скачать этот файл, затем найти в нем все ссылки вида <a ... href=\"...\" ... > и вывести список сайтов, на которые есть ссылка.\n",
    "\n",
    "Сайтом в данной задаче будем называть имя домена вместе с именами поддоменов. То есть, это последовательность символов, которая следует сразу после символов протокола, если он есть, до символов порта или пути, если они есть, за исключением случаев с относительными ссылками вида\n",
    "<a href=\"../some_path/index.html\">.\n",
    "\n",
    "Сайты следует выводить в алфавитном порядке.\n",
    "\n",
    "Пример HTML файла:\n",
    "\n",
    "<a href=\"http://stepic.org/courses\">\n",
    "<a href='https://stepic.org'>\n",
    "<a href='http://neerc.ifmo.ru:1345'>\n",
    "<a href=\"ftp://mail.ru/distib\" >\n",
    "<a href=\"ya.ru\">\n",
    "<a href=\"www.ya.ru\">\n",
    "<a href=\"../skip_relative_links\">\n",
    "\n",
    "Пример ответа:\n",
    "\n",
    "mail.ru\n",
    "neerc.ifmo.ru\n",
    "stepic.org\n",
    "www.ya.ru\n",
    "ya.ru"
   ]
  },
  {
   "cell_type": "code",
   "execution_count": null,
   "metadata": {},
   "outputs": [],
   "source": [
    "import requests, re\n",
    "z = set()\n",
    "s = []\n",
    "links = re.findall(r'(?:<a(?:.*)? href=[\\\"\\'])(?:\\w+://)?(\\w[\\w\\.-]*)', requests.get(input()).text)\n",
    "for line in links:\n",
    "    x = re.findall(r'([\\w_-]+(?:(?:\\.[\\w_-]+)+))', line)\n",
    "    if x != []:\n",
    "        z.add(x[0])\n",
    "for i in z:\n",
    "    s.append(i)\n",
    "s.sort()\n",
    "for j in s:\n",
    "    print(j)"
   ]
  }
 ],
 "metadata": {
  "kernelspec": {
   "display_name": "Python 3",
   "language": "python",
   "name": "python3"
  },
  "language_info": {
   "codemirror_mode": {
    "name": "ipython",
    "version": 3
   },
   "file_extension": ".py",
   "mimetype": "text/x-python",
   "name": "python",
   "nbconvert_exporter": "python",
   "pygments_lexer": "ipython3",
   "version": "3.7.0"
  }
 },
 "nbformat": 4,
 "nbformat_minor": 2
}
