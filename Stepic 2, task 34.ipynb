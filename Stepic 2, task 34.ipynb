{
 "cells": [
  {
   "cell_type": "code",
   "execution_count": null,
   "metadata": {},
   "outputs": [],
   "source": [
    "В этой задаче вам необходимо воспользоваться API сайта numbersapi.com\n",
    "\n",
    "Вам дается набор чисел. Для каждого из чисел необходимо узнать, существует ли интересный математический факт об этом числе.\n",
    "\n",
    "Для каждого числа выведите Interesting, если для числа существует интересный факт, и Boring иначе.\n",
    "Выводите информацию об интересности чисел в таком же порядке, в каком следуют числа во входном файле.\n",
    "\n",
    "Пример запроса к интересному числу:\n",
    "http://numbersapi.com/31/math?json=true\n",
    "\n",
    "Пример запроса к скучному числу:\n",
    "http://numbersapi.com/999/math?json=true\n",
    "\n",
    "Пример входного файла:\n",
    "31\n",
    "999\n",
    "1024\n",
    "502\n",
    "\n",
    "﻿Пример выходного файла:\n",
    "Interesting\n",
    "Boring\n",
    "Interesting\n",
    "Boring"
   ]
  },
  {
   "cell_type": "code",
   "execution_count": null,
   "metadata": {},
   "outputs": [],
   "source": [
    "import requests\n",
    "import json\n",
    "\n",
    "with open (r'C:\\Users\\loshkarev-vm\\Desktop\\dataset_24476_3.txt', 'r', encoding='utf-8') as numbers:\n",
    "    for number in numbers:\n",
    "        string = ''                            #итоговая строка с адресом вида \"http://numbersapi.com/999/math?json=true\"\n",
    "        api_url = 'http://numbersapi.com/'     #Шаблон начала строки\n",
    "        typeMethod = '/math?json=true'         #Шаблон конца строки с методом и джейсоном\n",
    "        string+=api_url                        #Клеим строку\n",
    "        string+=number.rstrip()                #добавляем нужное число в строку\n",
    "        string+= typeMethod                    #добавляем хвост строки\n",
    "        \n",
    "        res = requests.get(string, timeout = 5) #запрос урл\n",
    "        data = res.json()# импорт ответа в джейсон формате в переменную\n",
    "        \n",
    "        if data['found'] is True:  #если нужный ответ True, то Интересно, если нет, то не Интересно\n",
    "            print('Interesting')\n",
    "        else:\n",
    "            print('Boring')"
   ]
  }
 ],
 "metadata": {
  "kernelspec": {
   "display_name": "Python 3",
   "language": "python",
   "name": "python3"
  },
  "language_info": {
   "codemirror_mode": {
    "name": "ipython",
    "version": 3
   },
   "file_extension": ".py",
   "mimetype": "text/x-python",
   "name": "python",
   "nbconvert_exporter": "python",
   "pygments_lexer": "ipython3",
   "version": "3.7.0"
  }
 },
 "nbformat": 4,
 "nbformat_minor": 2
}
