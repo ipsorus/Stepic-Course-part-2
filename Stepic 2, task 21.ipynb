{
 "cells": [
  {
   "cell_type": "code",
   "execution_count": null,
   "metadata": {},
   "outputs": [],
   "source": [
    "Вам дана последовательность строк.\n",
    "Выведите строки, содержащие \"cat\" в качестве подстроки хотя бы два раза.\n",
    "\n",
    "Примечание:\n",
    "Считать все строки по одной из стандартного потока ввода вы можете, например, так\n",
    "\n",
    "import sys\n",
    "\n",
    "for line in sys.stdin:\n",
    "    line = line.rstrip()\n",
    "    # process line\n",
    "\n",
    "Sample Input:\n",
    "\n",
    "catcat\n",
    "cat and cat\n",
    "catac\n",
    "cat\n",
    "ccaatt\n",
    "Sample Output:\n",
    "\n",
    "catcat\n",
    "cat and cat"
   ]
  },
  {
   "cell_type": "code",
   "execution_count": null,
   "metadata": {},
   "outputs": [],
   "source": [
    "import sys\n",
    "import re\n",
    "\n",
    "for line in sys.stdin:\n",
    "    line = line.rstrip()\n",
    "    pattern = r'cat'\n",
    "    res = re.findall(pattern, line)\n",
    "    if len(res) >= 2:\n",
    "        print(line)"
   ]
  }
 ],
 "metadata": {
  "kernelspec": {
   "display_name": "Python 3",
   "language": "python",
   "name": "python3"
  },
  "language_info": {
   "codemirror_mode": {
    "name": "ipython",
    "version": 3
   },
   "file_extension": ".py",
   "mimetype": "text/x-python",
   "name": "python",
   "nbconvert_exporter": "python",
   "pygments_lexer": "ipython3",
   "version": "3.7.0"
  }
 },
 "nbformat": 4,
 "nbformat_minor": 2
}
