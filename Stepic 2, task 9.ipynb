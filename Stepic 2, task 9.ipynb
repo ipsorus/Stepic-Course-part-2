{
 "cells": [
  {
   "cell_type": "code",
   "execution_count": null,
   "metadata": {},
   "outputs": [],
   "source": [
    "Реализуйте структуру данных, представляющую собой расширенную структуру стек. Необходимо поддерживать добавление элемента на вершину стека, удаление с вершины стека, и необходимо поддерживать операции сложения, вычитания, умножения и целочисленного деления.\n",
    "\n",
    "Операция сложения на стеке определяется следующим образом. Со стека снимается верхний элемент (top1), затем снимается следующий верхний элемент (top2), и затем как результат операции сложения на вершину стека кладется элемент, равный top1 + top2.\n",
    "\n",
    "Аналогичным образом определяются операции вычитания (top1 - top2), умножения (top1 * top2) и целочисленного деления (top1 // top2).\n",
    "\n",
    "Реализуйте эту структуру данных как класс ExtendedStack, отнаследовав его от стандартного класса list.\n",
    "Требуемая структура класса:\n",
    "\n",
    "class ExtendedStack(list):\n",
    "    def sum(self):\n",
    "        # операция сложения\n",
    "\n",
    "    def sub(self):\n",
    "        # операция вычитания\n",
    "\n",
    "    def mul(self):\n",
    "        # операция умножения\n",
    "\n",
    "    def div(self):\n",
    "        # операция целочисленного деления\n",
    " \n",
    "Примечание\n",
    "Для добавления элемента на стек используется метод append, а для снятия со стека – метод pop.\n",
    "Гарантируется, что операции будут совершаться только когда в стеке есть хотя бы два элемента."
   ]
  },
  {
   "cell_type": "code",
   "execution_count": null,
   "metadata": {},
   "outputs": [],
   "source": [
    "class ExtendedStack(list):\n",
    "    def sum(self):\n",
    "        self.append(self.pop() + self.pop())\n",
    "        # операция сложения\n",
    "\n",
    "    def sub(self):\n",
    "        self.append(self.pop() - self.pop())\n",
    "        # операция вычитания\n",
    "\n",
    "    def mul(self):\n",
    "        self.append(self.pop() * self.pop())\n",
    "        # операция умножения\n",
    "\n",
    "    def div(self):\n",
    "        self.append(self.pop() // self.pop())\n",
    "        # операция целочисленного деления"
   ]
  }
 ],
 "metadata": {
  "kernelspec": {
   "display_name": "Python 3",
   "language": "python",
   "name": "python3"
  },
  "language_info": {
   "codemirror_mode": {
    "name": "ipython",
    "version": 3
   },
   "file_extension": ".py",
   "mimetype": "text/x-python",
   "name": "python",
   "nbconvert_exporter": "python",
   "pygments_lexer": "ipython3",
   "version": "3.7.0"
  }
 },
 "nbformat": 4,
 "nbformat_minor": 2
}
