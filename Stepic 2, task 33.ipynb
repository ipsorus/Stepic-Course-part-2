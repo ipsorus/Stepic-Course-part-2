{
 "cells": [
  {
   "cell_type": "code",
   "execution_count": null,
   "metadata": {},
   "outputs": [],
   "source": [
    "Вам дано описание наследования классов в формате JSON. \n",
    "Описание представляет из себя массив JSON-объектов, которые соответствуют классам. У каждого JSON-объекта есть поле name, которое содержит имя класса, и поле parents, которое содержит список имен прямых предков.\n",
    "\n",
    "Пример:\n",
    "[{\"name\": \"A\", \"parents\": []}, {\"name\": \"B\", \"parents\": [\"A\", \"C\"]}, {\"name\": \"C\", \"parents\": [\"A\"]}]\n",
    "\n",
    "﻿Эквивалент на Python:\n",
    "\n",
    "class A:\n",
    "    pass\n",
    "\n",
    "class B(A, C):\n",
    "    pass\n",
    "\n",
    "class C(A):\n",
    "    pass\n",
    "\n",
    "Гарантируется, что никакой класс не наследуется от себя явно или косвенно, и что никакой класс не наследуется явно от одного класса более одного раза.\n",
    "\n",
    "Для каждого класса вычислите предком скольких классов он является и выведите эту информацию в следующем формате.\n",
    "\n",
    "<имя класса> : <количество потомков>\n",
    "\n",
    "Выводить классы следует в лексикографическом порядке.\n",
    "\n",
    "Sample Input:\n",
    "\n",
    "[{\"name\": \"A\", \"parents\": []}, {\"name\": \"B\", \"parents\": [\"A\", \"C\"]}, {\"name\": \"C\", \"parents\": [\"A\"]}]\n",
    "Sample Output:\n",
    "\n",
    "A : 3\n",
    "B : 1\n",
    "C : 2"
   ]
  },
  {
   "cell_type": "code",
   "execution_count": null,
   "metadata": {},
   "outputs": [],
   "source": [
    "import json\n",
    "from collections import Counter\n",
    "z = []\n",
    "d = dict()\n",
    "s = set()\n",
    "m = dict()\n",
    "\n",
    "def countClass(classParent):\n",
    "    if d[classParent] != []:\n",
    "        for i in d[classParent]:\n",
    "            countClass(i) \n",
    "            m[k].add(i)\n",
    "\n",
    "data = json.loads(input())\n",
    "for className in data:\n",
    "    d[className['name']] = className['parents']\n",
    "for k in d.keys():\n",
    "    m[k] = set()\n",
    "    if d[k] != []:\n",
    "        for classname in d[k]:\n",
    "            m[k].add(classname)\n",
    "            countClass(classname)\n",
    "for key in m.keys():\n",
    "    z.append(key)\n",
    "    for t in m[key]:\n",
    "        z.append(t)\n",
    "c = Counter(z)\n",
    "for k in sorted(c.keys()):\n",
    "    print (k, ':', c[k])"
   ]
  }
 ],
 "metadata": {
  "kernelspec": {
   "display_name": "Python 3",
   "language": "python",
   "name": "python3"
  },
  "language_info": {
   "codemirror_mode": {
    "name": "ipython",
    "version": 3
   },
   "file_extension": ".py",
   "mimetype": "text/x-python",
   "name": "python",
   "nbconvert_exporter": "python",
   "pygments_lexer": "ipython3",
   "version": "3.7.0"
  }
 },
 "nbformat": 4,
 "nbformat_minor": 2
}
