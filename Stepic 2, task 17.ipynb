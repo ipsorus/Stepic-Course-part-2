{
 "cells": [
  {
   "cell_type": "code",
   "execution_count": null,
   "metadata": {},
   "outputs": [],
   "source": [
    "Вам дается текстовый файл, содержащий некоторое количество непустых строк.\n",
    "На основе него сгенерируйте новый текстовый файл, содержащий те же строки в обратном порядке.\n",
    "\n",
    "Пример входного файла:\n",
    "ab\n",
    "c\n",
    "dde\n",
    "ff\n",
    "\n",
    "﻿Пример выходного файла:\n",
    "ff\n",
    "dde\n",
    "c\n",
    "ab"
   ]
  },
  {
   "cell_type": "code",
   "execution_count": null,
   "metadata": {},
   "outputs": [],
   "source": [
    "with open(r'C:\\Users\\loshkarev-vm\\Desktop\\dataset_24465_4.txt', 'r', encoding='utf-8') as origin, open(r'C:\\Users\\loshkarev-vm\\Desktop\\copyList.txt', 'w', encoding='utf-8') as copy:\n",
    "    spisok = []\n",
    "    for line in origin:\n",
    "        line = line.strip()\n",
    "        print(line)\n",
    "        spisok.append(line)\n",
    "    print(spisok)\n",
    "        \n",
    "    spisok.reverse()\n",
    "    content = '\\n'.join(spisok)\n",
    "    copyText = copy.write(content)\n",
    "    print(content)"
   ]
  }
 ],
 "metadata": {
  "kernelspec": {
   "display_name": "Python 3",
   "language": "python",
   "name": "python3"
  },
  "language_info": {
   "codemirror_mode": {
    "name": "ipython",
    "version": 3
   },
   "file_extension": ".py",
   "mimetype": "text/x-python",
   "name": "python",
   "nbconvert_exporter": "python",
   "pygments_lexer": "ipython3",
   "version": "3.7.0"
  }
 },
 "nbformat": 4,
 "nbformat_minor": 2
}
