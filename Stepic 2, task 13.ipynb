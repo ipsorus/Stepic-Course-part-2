{
 "cells": [
  {
   "cell_type": "code",
   "execution_count": null,
   "metadata": {},
   "outputs": [],
   "source": [
    "Реализуйте класс PositiveList, отнаследовав его от класса list, для хранения положительных целых чисел.\n",
    "Также реализуйте новое исключение NonPositiveError.\n",
    "\n",
    "В классе PositiveList переопределите метод append(self, x) таким образом, чтобы при попытке добавить неположительное целое число бросалось исключение NonPositiveError и число не добавлялось, а при попытке добавить положительное целое число, число добавлялось бы как в стандартный list.\n",
    "\n",
    "В данной задаче гарантируется, что в качестве аргумента x метода append всегда будет передаваться целое число.\n",
    "\n",
    "Примечание:\n",
    "Положительными считаются числа, строго большие нуля."
   ]
  },
  {
   "cell_type": "code",
   "execution_count": null,
   "metadata": {},
   "outputs": [],
   "source": [
    "class NonPositiveError(Exception):\n",
    "    pass\n",
    "class PositiveList(list):\n",
    "    def append(self, x):\n",
    "        if x > 0:\n",
    "            list.append(self, int(x))\n",
    "        else:\n",
    "            raise NonPositiveError(str(x) + ' is NonPositive')"
   ]
  }
 ],
 "metadata": {
  "kernelspec": {
   "display_name": "Python 3",
   "language": "python",
   "name": "python3"
  },
  "language_info": {
   "codemirror_mode": {
    "name": "ipython",
    "version": 3
   },
   "file_extension": ".py",
   "mimetype": "text/x-python",
   "name": "python",
   "nbconvert_exporter": "python",
   "pygments_lexer": "ipython3",
   "version": "3.7.0"
  }
 },
 "nbformat": 4,
 "nbformat_minor": 2
}
