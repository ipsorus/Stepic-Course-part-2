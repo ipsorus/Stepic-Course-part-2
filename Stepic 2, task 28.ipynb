{
 "cells": [
  {
   "cell_type": "code",
   "execution_count": null,
   "metadata": {},
   "outputs": [],
   "source": [
    "Вам дана последовательность строк.\n",
    "В каждой строке поменяйте местами две первых буквы в каждом слове, состоящем хотя бы из двух букв.\n",
    "Буквой считается символ из группы \\w.\n",
    "Sample Input:\n",
    "\n",
    "this is a text\n",
    "\"this' !is. ?n1ce,\n",
    "Sample Output:\n",
    "\n",
    "htis si a etxt\n",
    "\"htis' !si. ?1nce,"
   ]
  },
  {
   "cell_type": "code",
   "execution_count": null,
   "metadata": {},
   "outputs": [],
   "source": [
    "import re\n",
    "import sys\n",
    "\n",
    "for line in sys.stdin:\n",
    "    line = line.strip()\n",
    "    line = re.sub(r'\\b(\\w)(\\w)(\\w{0,})\\b', r'\\2\\1\\3', line, flags=re.IGNORECASE)\n",
    "    print(line)"
   ]
  }
 ],
 "metadata": {
  "kernelspec": {
   "display_name": "Python 3",
   "language": "python",
   "name": "python3"
  },
  "language_info": {
   "codemirror_mode": {
    "name": "ipython",
    "version": 3
   },
   "file_extension": ".py",
   "mimetype": "text/x-python",
   "name": "python",
   "nbconvert_exporter": "python",
   "pygments_lexer": "ipython3",
   "version": "3.7.0"
  }
 },
 "nbformat": 4,
 "nbformat_minor": 2
}
