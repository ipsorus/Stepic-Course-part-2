{
 "cells": [
  {
   "cell_type": "code",
   "execution_count": null,
   "metadata": {},
   "outputs": [],
   "source": [
    "Вашей программе на вход подаются две строки s и t, состоящие из строчных латинских букв.\n",
    "\n",
    "Выведите одно число – количество вхождений строки t в строку s.\n",
    "\n",
    "Пример:\n",
    "s = \"abababa\"\n",
    "t = \"aba\"\n",
    "\n",
    "Вхождения строки t в строку s:\n",
    "abababa\n",
    "abababa\n",
    "abababa\n",
    "\n",
    "Sample Input 1:\n",
    "\n",
    "abababa\n",
    "aba\n",
    "Sample Output 1:\n",
    "\n",
    "3\n",
    "Sample Input 2:\n",
    "\n",
    "abababa\n",
    "abc\n",
    "Sample Output 2:\n",
    "\n",
    "0\n",
    "Sample Input 3:\n",
    "\n",
    "abc\n",
    "abc\n",
    "Sample Output 3:\n",
    "\n",
    "1\n",
    "Sample Input 4:\n",
    "\n",
    "aaaaa\n",
    "a\n",
    "Sample Output 4:\n",
    "\n",
    "5"
   ]
  },
  {
   "cell_type": "code",
   "execution_count": null,
   "metadata": {},
   "outputs": [],
   "source": [
    "s = input()\n",
    "t = input() \n",
    "\n",
    "def entrySubString(s, t):\n",
    "    count = 0\n",
    "    i = -1\n",
    "    while True:\n",
    "        i = s.find(t, i+1)\n",
    "        if i == -1:\n",
    "            return count\n",
    "        count += 1\n",
    "print(entrySubString(s,t))"
   ]
  }
 ],
 "metadata": {
  "kernelspec": {
   "display_name": "Python 3",
   "language": "python",
   "name": "python3"
  },
  "language_info": {
   "codemirror_mode": {
    "name": "ipython",
    "version": 3
   },
   "file_extension": ".py",
   "mimetype": "text/x-python",
   "name": "python",
   "nbconvert_exporter": "python",
   "pygments_lexer": "ipython3",
   "version": "3.7.0"
  }
 },
 "nbformat": 4,
 "nbformat_minor": 2
}
