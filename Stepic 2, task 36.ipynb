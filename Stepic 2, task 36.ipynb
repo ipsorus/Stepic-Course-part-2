{
 "cells": [
  {
   "cell_type": "code",
   "execution_count": null,
   "metadata": {},
   "outputs": [],
   "source": [
    "Вам дано описание пирамиды из кубиков в формате XML.\n",
    "Кубики могут быть трех цветов: красный (red), зеленый (green) и синий (blue﻿).\n",
    "Для каждого кубика известны его цвет, и известны кубики, расположенные прямо под ним.\n",
    "\n",
    "Пример:\n",
    "\n",
    "<cube color=\"blue\">\n",
    "  <cube color=\"red\">\n",
    "    <cube color=\"green\">\n",
    "    </cube>\n",
    "  </cube>\n",
    "  <cube color=\"red\">\n",
    "  </cube>\n",
    "</cube>\n",
    " \n",
    "Введем понятие ценности для кубиков. Самый верхний кубик, соответствующий корню XML документа имеет ценность 1. Кубики, расположенные прямо под ним, имеют ценность 2. Кубики, расположенные прямо под нижележащими кубиками, имеют ценность 3. И т. д.\n",
    "\n",
    "Ценность цвета равна сумме ценностей всех кубиков этого цвета.\n",
    "\n",
    "Выведите через пробел три числа: ценности красного, зеленого и синего цветов.\n",
    "Sample Input:\n",
    "\n",
    "<cube color=\"blue\"><cube color=\"red\"><cube color=\"green\"></cube></cube><cube color=\"red\"></cube></cube>\n",
    "Sample Output:\n",
    "\n",
    "4 3 1"
   ]
  },
  {
   "cell_type": "code",
   "execution_count": null,
   "metadata": {},
   "outputs": [],
   "source": [
    "from xml.etree import ElementTree\n",
    "\n",
    "def countColors(root, a):\n",
    "    a+=1\n",
    "    for c in root:      \n",
    "        if c.attrib['color'] in colors:\n",
    "            colors[c.attrib['color']]+=a\n",
    "        else:\n",
    "            continue\n",
    "        countColors(c, a)\n",
    "\n",
    "colors = {'red':0, 'green':0, 'blue':0}\n",
    "\n",
    "str_xml = input()\n",
    "root = ElementTree.fromstring(str_xml)\n",
    "\n",
    "if root.attrib['color'] in colors:\n",
    "    colors[root.attrib['color']]+=1\n",
    "\n",
    "for element in root:\n",
    "    a = 2\n",
    "    colors[element.attrib['color']]+=a\n",
    "    countColors(element, a = 2)\n",
    "    \n",
    "print(colors['red'], colors['green'],colors['blue'])"
   ]
  }
 ],
 "metadata": {
  "kernelspec": {
   "display_name": "Python 3",
   "language": "python",
   "name": "python3"
  },
  "language_info": {
   "codemirror_mode": {
    "name": "ipython",
    "version": 3
   },
   "file_extension": ".py",
   "mimetype": "text/x-python",
   "name": "python",
   "nbconvert_exporter": "python",
   "pygments_lexer": "ipython3",
   "version": "3.7.0"
  }
 },
 "nbformat": 4,
 "nbformat_minor": 2
}
