{
 "cells": [
  {
   "cell_type": "code",
   "execution_count": null,
   "metadata": {},
   "outputs": [],
   "source": [
    "Рассмотрим два HTML-документа A и B.\n",
    "Из A можно перейти в B за один переход, если в A есть ссылка на B, т. е. внутри A есть тег <a href=\"B\">, возможно с дополнительными параметрами внутри тега.\n",
    "Из A можно перейти в B за два перехода если существует такой документ C, что из A в C можно перейти за один переход и из C в B можно перейти за один переход.\n",
    "\n",
    "Вашей программе на вход подаются две строки, содержащие url двух документов A и B.\n",
    "Выведите Yes, если из A в B можно перейти за два перехода, иначе выведите No.\n",
    "\n",
    "Обратите внимание на то, что не все ссылки внутри HTML документа могут вести на существующие HTML документы.\n",
    "\n",
    "Sample Input 1:\n",
    "\n",
    "https://stepic.org/media/attachments/lesson/24472/sample0.html\n",
    "https://stepic.org/media/attachments/lesson/24472/sample2.html\n",
    "Sample Output 1:\n",
    "\n",
    "Yes\n",
    "Sample Input 2:\n",
    "\n",
    "https://stepic.org/media/attachments/lesson/24472/sample0.html\n",
    "https://stepic.org/media/attachments/lesson/24472/sample1.html\n",
    "Sample Output 2:\n",
    "\n",
    "No\n",
    "Sample Input 3:\n",
    "\n",
    "https://stepic.org/media/attachments/lesson/24472/sample1.html\n",
    "https://stepic.org/media/attachments/lesson/24472/sample2.html\n",
    "Sample Output 3:\n",
    "\n",
    "Yes"
   ]
  },
  {
   "cell_type": "code",
   "execution_count": null,
   "metadata": {},
   "outputs": [],
   "source": [
    "import requests, re\n",
    "\n",
    "links, secondLinks = [], []\n",
    "\n",
    "a = re.findall(r'\\<a\\s.+?>.*?\\<\\/a>', requests.get(input()).text)\n",
    "b = input()\n",
    "for i in a:\n",
    "    if re.search(r'http[s]*:', i):\n",
    "        res = re.findall(r'href=[\\\"\\'](.+?)[\\\"\\']', i)    \n",
    "        links.append(res[0])\n",
    "for link in links:\n",
    "    x = requests.get(link)\n",
    "    if x.status_code == 200:\n",
    "        x = re.findall(r'\\<a\\s.+?>.*?\\<\\/a>', requests.get(link).text)\n",
    "        for n in x:\n",
    "            if re.search(r'http[s]*:', n):\n",
    "                res = re.findall(r'href=[\\\"\\'](.+?)[\\\"\\']', n)    \n",
    "                secondLinks.append(res[0])\n",
    "        \n",
    "if b in secondLinks:\n",
    "    print('Yes')\n",
    "else:\n",
    "    print('No')"
   ]
  }
 ],
 "metadata": {
  "kernelspec": {
   "display_name": "Python 3",
   "language": "python",
   "name": "python3"
  },
  "language_info": {
   "codemirror_mode": {
    "name": "ipython",
    "version": 3
   },
   "file_extension": ".py",
   "mimetype": "text/x-python",
   "name": "python",
   "nbconvert_exporter": "python",
   "pygments_lexer": "ipython3",
   "version": "3.7.0"
  }
 },
 "nbformat": 4,
 "nbformat_minor": 2
}
