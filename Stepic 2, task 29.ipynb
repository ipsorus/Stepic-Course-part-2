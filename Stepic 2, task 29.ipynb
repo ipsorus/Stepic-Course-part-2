{
 "cells": [
  {
   "cell_type": "code",
   "execution_count": null,
   "metadata": {},
   "outputs": [],
   "source": [
    "Вам дана последовательность строк.\n",
    "В каждой строке замените все вхождения нескольких одинаковых букв на одну букву.\n",
    "Буквой считается символ из группы \\w.\n",
    "Sample Input:\n",
    "\n",
    "attraction\n",
    "buzzzz\n",
    "Sample Output:\n",
    "\n",
    "atraction\n",
    "buz"
   ]
  },
  {
   "cell_type": "code",
   "execution_count": null,
   "metadata": {},
   "outputs": [],
   "source": [
    "import sys, re\n",
    "\n",
    "for line in sys.stdin:\n",
    "    line = line.rstrip()\n",
    "    line = re.sub(r'(\\w)\\1{1,}',r'\\1',line)\n",
    "    print(line)"
   ]
  }
 ],
 "metadata": {
  "kernelspec": {
   "display_name": "Python 3",
   "language": "python",
   "name": "python3"
  },
  "language_info": {
   "codemirror_mode": {
    "name": "ipython",
    "version": 3
   },
   "file_extension": ".py",
   "mimetype": "text/x-python",
   "name": "python",
   "nbconvert_exporter": "python",
   "pygments_lexer": "ipython3",
   "version": "3.7.0"
  }
 },
 "nbformat": 4,
 "nbformat_minor": 2
}
