{
 "cells": [
  {
   "cell_type": "code",
   "execution_count": null,
   "metadata": {},
   "outputs": [],
   "source": [
    "Вам дана последовательность строк.\n",
    "В каждой строке замените все вхождения подстроки \"human\" на подстроку \"computer\"﻿ и выведите полученные строки.\n",
    "\n",
    "Sample Input:\n",
    "\n",
    "I need to understand the human mind\n",
    "humanity\n",
    "Sample Output:\n",
    "\n",
    "I need to understand the computer mind\n",
    "computerity"
   ]
  },
  {
   "cell_type": "code",
   "execution_count": null,
   "metadata": {},
   "outputs": [],
   "source": [
    "import re\n",
    "import sys\n",
    "\n",
    "for line in sys.stdin:\n",
    "    line = line.rstrip()\n",
    "    pattern = r'human'\n",
    "    if re.findall(pattern, line):\n",
    "        res = re.sub(pattern,'computer', line)\n",
    "        print(res)\n",
    "    else:\n",
    "        print(line)"
   ]
  }
 ],
 "metadata": {
  "kernelspec": {
   "display_name": "Python 3",
   "language": "python",
   "name": "python3"
  },
  "language_info": {
   "codemirror_mode": {
    "name": "ipython",
    "version": 3
   },
   "file_extension": ".py",
   "mimetype": "text/x-python",
   "name": "python",
   "nbconvert_exporter": "python",
   "pygments_lexer": "ipython3",
   "version": "3.7.0"
  }
 },
 "nbformat": 4,
 "nbformat_minor": 2
}
